{
 "cells": [
  {
   "cell_type": "markdown",
   "metadata": {},
   "source": [
    "   # Daily Weather Dataset\n",
    "\n",
    "### Task\n",
    "\n",
    "1.\tImport dataset in notebook\n",
    "2.\tClean data\n",
    "3.\tMake a label\n",
    "4.\tTrain Test Split\n",
    "5.\tApply Logistic Regression\n",
    "6.\tApply Decision Tree\n",
    "7.\tApply K neighbor\n",
    "8.\tApply Linear SVM\n",
    "9.\tApply RandomForest\n",
    "10.\tRecord the accuracy\n",
    "\n",
    "### Objective\n",
    "- To predict whether humidity will be high(1) or low(0) in afternoon from data"
   ]
  },
  {
   "cell_type": "code",
   "execution_count": null,
   "metadata": {},
   "outputs": [],
   "source": []
  },
  {
   "cell_type": "markdown",
   "metadata": {},
   "source": [
    "#### Importing modules"
   ]
  },
  {
   "cell_type": "code",
   "execution_count": 2,
   "metadata": {},
   "outputs": [],
   "source": [
    "import pandas as pd\n",
    "import numpy as np\n",
    "import matplotlib.pyplot as plt\n",
    "from sklearn.model_selection import train_test_split  "
   ]
  },
  {
   "cell_type": "markdown",
   "metadata": {},
   "source": [
    "#### Import Dataset"
   ]
  },
  {
   "cell_type": "code",
   "execution_count": 3,
   "metadata": {},
   "outputs": [
    {
     "data": {
      "text/html": [
       "<div>\n",
       "<style scoped>\n",
       "    .dataframe tbody tr th:only-of-type {\n",
       "        vertical-align: middle;\n",
       "    }\n",
       "\n",
       "    .dataframe tbody tr th {\n",
       "        vertical-align: top;\n",
       "    }\n",
       "\n",
       "    .dataframe thead th {\n",
       "        text-align: right;\n",
       "    }\n",
       "</style>\n",
       "<table border=\"1\" class=\"dataframe\">\n",
       "  <thead>\n",
       "    <tr style=\"text-align: right;\">\n",
       "      <th></th>\n",
       "      <th>number</th>\n",
       "      <th>air_pressure_9am</th>\n",
       "      <th>air_temp_9am</th>\n",
       "      <th>avg_wind_direction_9am</th>\n",
       "      <th>avg_wind_speed_9am</th>\n",
       "      <th>max_wind_direction_9am</th>\n",
       "      <th>max_wind_speed_9am</th>\n",
       "      <th>rain_accumulation_9am</th>\n",
       "      <th>rain_duration_9am</th>\n",
       "      <th>relative_humidity_9am</th>\n",
       "      <th>relative_humidity_3pm</th>\n",
       "    </tr>\n",
       "  </thead>\n",
       "  <tbody>\n",
       "    <tr>\n",
       "      <th>0</th>\n",
       "      <td>0</td>\n",
       "      <td>918.060000</td>\n",
       "      <td>74.822000</td>\n",
       "      <td>271.100000</td>\n",
       "      <td>2.080354</td>\n",
       "      <td>295.400000</td>\n",
       "      <td>2.863283</td>\n",
       "      <td>0.0</td>\n",
       "      <td>0.0</td>\n",
       "      <td>42.420000</td>\n",
       "      <td>36.160000</td>\n",
       "    </tr>\n",
       "    <tr>\n",
       "      <th>1</th>\n",
       "      <td>1</td>\n",
       "      <td>917.347688</td>\n",
       "      <td>71.403843</td>\n",
       "      <td>101.935179</td>\n",
       "      <td>2.443009</td>\n",
       "      <td>140.471548</td>\n",
       "      <td>3.533324</td>\n",
       "      <td>0.0</td>\n",
       "      <td>0.0</td>\n",
       "      <td>24.328697</td>\n",
       "      <td>19.426597</td>\n",
       "    </tr>\n",
       "    <tr>\n",
       "      <th>2</th>\n",
       "      <td>2</td>\n",
       "      <td>923.040000</td>\n",
       "      <td>60.638000</td>\n",
       "      <td>51.000000</td>\n",
       "      <td>17.067852</td>\n",
       "      <td>63.700000</td>\n",
       "      <td>22.100967</td>\n",
       "      <td>0.0</td>\n",
       "      <td>20.0</td>\n",
       "      <td>8.900000</td>\n",
       "      <td>14.460000</td>\n",
       "    </tr>\n",
       "    <tr>\n",
       "      <th>3</th>\n",
       "      <td>3</td>\n",
       "      <td>920.502751</td>\n",
       "      <td>70.138895</td>\n",
       "      <td>198.832133</td>\n",
       "      <td>4.337363</td>\n",
       "      <td>211.203341</td>\n",
       "      <td>5.190045</td>\n",
       "      <td>0.0</td>\n",
       "      <td>0.0</td>\n",
       "      <td>12.189102</td>\n",
       "      <td>12.742547</td>\n",
       "    </tr>\n",
       "    <tr>\n",
       "      <th>4</th>\n",
       "      <td>4</td>\n",
       "      <td>921.160000</td>\n",
       "      <td>44.294000</td>\n",
       "      <td>277.800000</td>\n",
       "      <td>1.856660</td>\n",
       "      <td>136.500000</td>\n",
       "      <td>2.863283</td>\n",
       "      <td>8.9</td>\n",
       "      <td>14730.0</td>\n",
       "      <td>92.410000</td>\n",
       "      <td>76.740000</td>\n",
       "    </tr>\n",
       "  </tbody>\n",
       "</table>\n",
       "</div>"
      ],
      "text/plain": [
       "   number  air_pressure_9am  air_temp_9am  avg_wind_direction_9am  \\\n",
       "0       0        918.060000     74.822000              271.100000   \n",
       "1       1        917.347688     71.403843              101.935179   \n",
       "2       2        923.040000     60.638000               51.000000   \n",
       "3       3        920.502751     70.138895              198.832133   \n",
       "4       4        921.160000     44.294000              277.800000   \n",
       "\n",
       "   avg_wind_speed_9am  max_wind_direction_9am  max_wind_speed_9am  \\\n",
       "0            2.080354              295.400000            2.863283   \n",
       "1            2.443009              140.471548            3.533324   \n",
       "2           17.067852               63.700000           22.100967   \n",
       "3            4.337363              211.203341            5.190045   \n",
       "4            1.856660              136.500000            2.863283   \n",
       "\n",
       "   rain_accumulation_9am  rain_duration_9am  relative_humidity_9am  \\\n",
       "0                    0.0                0.0              42.420000   \n",
       "1                    0.0                0.0              24.328697   \n",
       "2                    0.0               20.0               8.900000   \n",
       "3                    0.0                0.0              12.189102   \n",
       "4                    8.9            14730.0              92.410000   \n",
       "\n",
       "   relative_humidity_3pm  \n",
       "0              36.160000  \n",
       "1              19.426597  \n",
       "2              14.460000  \n",
       "3              12.742547  \n",
       "4              76.740000  "
      ]
     },
     "execution_count": 3,
     "metadata": {},
     "output_type": "execute_result"
    }
   ],
   "source": [
    "data=pd.read_csv('daily_weather.csv')\n",
    "data.head()"
   ]
  },
  {
   "cell_type": "markdown",
   "metadata": {},
   "source": [
    "#### Data Statistics"
   ]
  },
  {
   "cell_type": "code",
   "execution_count": 5,
   "metadata": {},
   "outputs": [
    {
     "data": {
      "text/plain": [
       "(1095, 11)"
      ]
     },
     "execution_count": 5,
     "metadata": {},
     "output_type": "execute_result"
    }
   ],
   "source": [
    "data.shape"
   ]
  },
  {
   "cell_type": "code",
   "execution_count": 4,
   "metadata": {},
   "outputs": [
    {
     "data": {
      "text/html": [
       "<div>\n",
       "<style scoped>\n",
       "    .dataframe tbody tr th:only-of-type {\n",
       "        vertical-align: middle;\n",
       "    }\n",
       "\n",
       "    .dataframe tbody tr th {\n",
       "        vertical-align: top;\n",
       "    }\n",
       "\n",
       "    .dataframe thead th {\n",
       "        text-align: right;\n",
       "    }\n",
       "</style>\n",
       "<table border=\"1\" class=\"dataframe\">\n",
       "  <thead>\n",
       "    <tr style=\"text-align: right;\">\n",
       "      <th></th>\n",
       "      <th>number</th>\n",
       "      <th>air_pressure_9am</th>\n",
       "      <th>air_temp_9am</th>\n",
       "      <th>avg_wind_direction_9am</th>\n",
       "      <th>avg_wind_speed_9am</th>\n",
       "      <th>max_wind_direction_9am</th>\n",
       "      <th>max_wind_speed_9am</th>\n",
       "      <th>rain_accumulation_9am</th>\n",
       "      <th>rain_duration_9am</th>\n",
       "      <th>relative_humidity_9am</th>\n",
       "      <th>relative_humidity_3pm</th>\n",
       "    </tr>\n",
       "  </thead>\n",
       "  <tbody>\n",
       "    <tr>\n",
       "      <th>count</th>\n",
       "      <td>1095.000000</td>\n",
       "      <td>1092.000000</td>\n",
       "      <td>1090.000000</td>\n",
       "      <td>1091.000000</td>\n",
       "      <td>1092.000000</td>\n",
       "      <td>1092.000000</td>\n",
       "      <td>1091.000000</td>\n",
       "      <td>1089.000000</td>\n",
       "      <td>1092.000000</td>\n",
       "      <td>1095.000000</td>\n",
       "      <td>1095.000000</td>\n",
       "    </tr>\n",
       "    <tr>\n",
       "      <th>mean</th>\n",
       "      <td>547.000000</td>\n",
       "      <td>918.882551</td>\n",
       "      <td>64.933001</td>\n",
       "      <td>142.235511</td>\n",
       "      <td>5.508284</td>\n",
       "      <td>148.953518</td>\n",
       "      <td>7.019514</td>\n",
       "      <td>0.203079</td>\n",
       "      <td>294.108052</td>\n",
       "      <td>34.241402</td>\n",
       "      <td>35.344727</td>\n",
       "    </tr>\n",
       "    <tr>\n",
       "      <th>std</th>\n",
       "      <td>316.243577</td>\n",
       "      <td>3.184161</td>\n",
       "      <td>11.175514</td>\n",
       "      <td>69.137859</td>\n",
       "      <td>4.552813</td>\n",
       "      <td>67.238013</td>\n",
       "      <td>5.598209</td>\n",
       "      <td>1.593952</td>\n",
       "      <td>1598.078779</td>\n",
       "      <td>25.472067</td>\n",
       "      <td>22.524079</td>\n",
       "    </tr>\n",
       "    <tr>\n",
       "      <th>min</th>\n",
       "      <td>0.000000</td>\n",
       "      <td>907.990000</td>\n",
       "      <td>36.752000</td>\n",
       "      <td>15.500000</td>\n",
       "      <td>0.693451</td>\n",
       "      <td>28.900000</td>\n",
       "      <td>1.185578</td>\n",
       "      <td>0.000000</td>\n",
       "      <td>0.000000</td>\n",
       "      <td>6.090000</td>\n",
       "      <td>5.300000</td>\n",
       "    </tr>\n",
       "    <tr>\n",
       "      <th>25%</th>\n",
       "      <td>273.500000</td>\n",
       "      <td>916.550000</td>\n",
       "      <td>57.281000</td>\n",
       "      <td>65.972506</td>\n",
       "      <td>2.248768</td>\n",
       "      <td>76.553003</td>\n",
       "      <td>3.067477</td>\n",
       "      <td>0.000000</td>\n",
       "      <td>0.000000</td>\n",
       "      <td>15.092243</td>\n",
       "      <td>17.395000</td>\n",
       "    </tr>\n",
       "    <tr>\n",
       "      <th>50%</th>\n",
       "      <td>547.000000</td>\n",
       "      <td>918.921045</td>\n",
       "      <td>65.715479</td>\n",
       "      <td>166.000000</td>\n",
       "      <td>3.871333</td>\n",
       "      <td>177.300000</td>\n",
       "      <td>4.943637</td>\n",
       "      <td>0.000000</td>\n",
       "      <td>0.000000</td>\n",
       "      <td>23.179259</td>\n",
       "      <td>24.380000</td>\n",
       "    </tr>\n",
       "    <tr>\n",
       "      <th>75%</th>\n",
       "      <td>820.500000</td>\n",
       "      <td>921.160073</td>\n",
       "      <td>73.450974</td>\n",
       "      <td>191.000000</td>\n",
       "      <td>7.337163</td>\n",
       "      <td>201.233153</td>\n",
       "      <td>8.947760</td>\n",
       "      <td>0.000000</td>\n",
       "      <td>0.000000</td>\n",
       "      <td>45.400000</td>\n",
       "      <td>52.060000</td>\n",
       "    </tr>\n",
       "    <tr>\n",
       "      <th>max</th>\n",
       "      <td>1094.000000</td>\n",
       "      <td>929.320000</td>\n",
       "      <td>98.906000</td>\n",
       "      <td>343.400000</td>\n",
       "      <td>23.554978</td>\n",
       "      <td>312.200000</td>\n",
       "      <td>29.840780</td>\n",
       "      <td>24.020000</td>\n",
       "      <td>17704.000000</td>\n",
       "      <td>92.620000</td>\n",
       "      <td>92.250000</td>\n",
       "    </tr>\n",
       "  </tbody>\n",
       "</table>\n",
       "</div>"
      ],
      "text/plain": [
       "            number  air_pressure_9am  air_temp_9am  avg_wind_direction_9am  \\\n",
       "count  1095.000000       1092.000000   1090.000000             1091.000000   \n",
       "mean    547.000000        918.882551     64.933001              142.235511   \n",
       "std     316.243577          3.184161     11.175514               69.137859   \n",
       "min       0.000000        907.990000     36.752000               15.500000   \n",
       "25%     273.500000        916.550000     57.281000               65.972506   \n",
       "50%     547.000000        918.921045     65.715479              166.000000   \n",
       "75%     820.500000        921.160073     73.450974              191.000000   \n",
       "max    1094.000000        929.320000     98.906000              343.400000   \n",
       "\n",
       "       avg_wind_speed_9am  max_wind_direction_9am  max_wind_speed_9am  \\\n",
       "count         1092.000000             1092.000000         1091.000000   \n",
       "mean             5.508284              148.953518            7.019514   \n",
       "std              4.552813               67.238013            5.598209   \n",
       "min              0.693451               28.900000            1.185578   \n",
       "25%              2.248768               76.553003            3.067477   \n",
       "50%              3.871333              177.300000            4.943637   \n",
       "75%              7.337163              201.233153            8.947760   \n",
       "max             23.554978              312.200000           29.840780   \n",
       "\n",
       "       rain_accumulation_9am  rain_duration_9am  relative_humidity_9am  \\\n",
       "count            1089.000000        1092.000000            1095.000000   \n",
       "mean                0.203079         294.108052              34.241402   \n",
       "std                 1.593952        1598.078779              25.472067   \n",
       "min                 0.000000           0.000000               6.090000   \n",
       "25%                 0.000000           0.000000              15.092243   \n",
       "50%                 0.000000           0.000000              23.179259   \n",
       "75%                 0.000000           0.000000              45.400000   \n",
       "max                24.020000       17704.000000              92.620000   \n",
       "\n",
       "       relative_humidity_3pm  \n",
       "count            1095.000000  \n",
       "mean               35.344727  \n",
       "std                22.524079  \n",
       "min                 5.300000  \n",
       "25%                17.395000  \n",
       "50%                24.380000  \n",
       "75%                52.060000  \n",
       "max                92.250000  "
      ]
     },
     "execution_count": 4,
     "metadata": {},
     "output_type": "execute_result"
    }
   ],
   "source": [
    "data.describe()"
   ]
  },
  {
   "cell_type": "code",
   "execution_count": 11,
   "metadata": {},
   "outputs": [
    {
     "data": {
      "text/plain": [
       "number                    0\n",
       "air_pressure_9am          3\n",
       "air_temp_9am              5\n",
       "avg_wind_direction_9am    4\n",
       "avg_wind_speed_9am        3\n",
       "max_wind_direction_9am    3\n",
       "max_wind_speed_9am        4\n",
       "rain_accumulation_9am     6\n",
       "rain_duration_9am         3\n",
       "relative_humidity_9am     0\n",
       "relative_humidity_3pm     0\n",
       "dtype: int64"
      ]
     },
     "execution_count": 11,
     "metadata": {},
     "output_type": "execute_result"
    }
   ],
   "source": [
    "len(data)-data.count()"
   ]
  },
  {
   "cell_type": "markdown",
   "metadata": {},
   "source": [
    "#### Removing entries with null values"
   ]
  },
  {
   "cell_type": "code",
   "execution_count": 12,
   "metadata": {},
   "outputs": [
    {
     "data": {
      "text/plain": [
       "number                    0\n",
       "air_pressure_9am          0\n",
       "air_temp_9am              0\n",
       "avg_wind_direction_9am    0\n",
       "avg_wind_speed_9am        0\n",
       "max_wind_direction_9am    0\n",
       "max_wind_speed_9am        0\n",
       "rain_accumulation_9am     0\n",
       "rain_duration_9am         0\n",
       "relative_humidity_9am     0\n",
       "relative_humidity_3pm     0\n",
       "dtype: int64"
      ]
     },
     "execution_count": 12,
     "metadata": {},
     "output_type": "execute_result"
    }
   ],
   "source": [
    "data.dropna(inplace=True)\n",
    "len(data)-data.count()"
   ]
  },
  {
   "cell_type": "markdown",
   "metadata": {},
   "source": [
    "#### Creating label Y -  high_humidity\n",
    "( If relative_humidity at 3pm is greater than or equal average value than set value of high_humidity to 1 otherwise zero )"
   ]
  },
  {
   "cell_type": "code",
   "execution_count": 13,
   "metadata": {},
   "outputs": [
    {
     "data": {
      "text/plain": [
       "(1064, 11)"
      ]
     },
     "execution_count": 13,
     "metadata": {},
     "output_type": "execute_result"
    }
   ],
   "source": [
    "data.shape"
   ]
  },
  {
   "cell_type": "code",
   "execution_count": 18,
   "metadata": {},
   "outputs": [
    {
     "name": "stdout",
     "output_type": "stream",
     "text": [
      "35.14838093290537\n"
     ]
    }
   ],
   "source": [
    "Avg_value=data['relative_humidity_3pm'].mean()\n",
    "print(Avg_value)"
   ]
  },
  {
   "cell_type": "code",
   "execution_count": 24,
   "metadata": {
    "scrolled": true
   },
   "outputs": [
    {
     "data": {
      "text/plain": [
       "0    1\n",
       "1    0\n",
       "2    0\n",
       "3    0\n",
       "4    1\n",
       "Name: high_humidity, dtype: int32"
      ]
     },
     "execution_count": 24,
     "metadata": {},
     "output_type": "execute_result"
    }
   ],
   "source": [
    "data['high_humidity'] = data['relative_humidity_3pm']>=data['relative_humidity_3pm'].mean()*1\n",
    "data['high_humidity']=data['high_humidity'].astype(int)\n",
    "##data['high_humidity'].head()"
   ]
  },
  {
   "cell_type": "code",
   "execution_count": 27,
   "metadata": {},
   "outputs": [
    {
     "data": {
      "text/plain": [
       "Index(['number', 'air_pressure_9am', 'air_temp_9am', 'avg_wind_direction_9am',\n",
       "       'avg_wind_speed_9am', 'max_wind_direction_9am', 'max_wind_speed_9am',\n",
       "       'rain_accumulation_9am', 'rain_duration_9am', 'relative_humidity_9am',\n",
       "       'relative_humidity_3pm', 'high_humidity'],\n",
       "      dtype='object')"
      ]
     },
     "execution_count": 27,
     "metadata": {},
     "output_type": "execute_result"
    }
   ],
   "source": [
    "## column names\n",
    "data.columns"
   ]
  },
  {
   "cell_type": "markdown",
   "metadata": {},
   "source": [
    "#### Separating Features and Label"
   ]
  },
  {
   "cell_type": "code",
   "execution_count": 26,
   "metadata": {},
   "outputs": [],
   "source": [
    "features = [\n",
    "            'air_pressure_9am', 'air_temp_9am', 'avg_wind_direction_9am',\n",
    "            'avg_wind_speed_9am', 'max_wind_direction_9am', 'max_wind_speed_9am',\n",
    "            'rain_accumulation_9am', 'rain_duration_9am', 'relative_humidity_9am', \n",
    "            ]\n",
    "\n",
    "label = ['high_humidity']\n",
    "\n",
    "X = data[features]\n",
    "y = data[label]\n",
    "\n",
    "### spliting Data into training and testing\n",
    "\n",
    "X_train, X_test, y_train, y_test = train_test_split(X,y,random_state=0)"
   ]
  },
  {
   "cell_type": "markdown",
   "metadata": {},
   "source": [
    "### Logistic Regression"
   ]
  },
  {
   "cell_type": "code",
   "execution_count": 33,
   "metadata": {},
   "outputs": [
    {
     "name": "stdout",
     "output_type": "stream",
     "text": [
      "(798, 9)\n",
      "(798,)\n"
     ]
    }
   ],
   "source": [
    "print(X_train.shape)\n",
    "y_train=y_train.values.ravel()\n",
    "print(y_train.shape)"
   ]
  },
  {
   "cell_type": "code",
   "execution_count": 28,
   "metadata": {},
   "outputs": [],
   "source": [
    "from sklearn.linear_model import LogisticRegression"
   ]
  },
  {
   "cell_type": "code",
   "execution_count": 34,
   "metadata": {
    "scrolled": true
   },
   "outputs": [
    {
     "data": {
      "text/plain": [
       "LogisticRegression(C=1.0, class_weight=None, dual=False, fit_intercept=True,\n",
       "          intercept_scaling=1, max_iter=100, multi_class='ovr', n_jobs=1,\n",
       "          penalty='l2', random_state=0, solver='liblinear', tol=0.0001,\n",
       "          verbose=0, warm_start=False)"
      ]
     },
     "execution_count": 34,
     "metadata": {},
     "output_type": "execute_result"
    }
   ],
   "source": [
    "logistic=LogisticRegression(random_state=0)\n",
    "logistic.fit(X_train,y_train)"
   ]
  },
  {
   "cell_type": "code",
   "execution_count": 35,
   "metadata": {},
   "outputs": [
    {
     "data": {
      "text/plain": [
       "array([0, 1, 1, 1, 0, 0, 0, 0, 1, 1, 0, 0, 1, 0, 1, 0, 0, 0, 1, 1, 1, 1,\n",
       "       1, 0, 0, 0, 1, 0, 0, 0, 1, 1, 1, 1, 0, 1, 0, 0, 0, 0, 1, 0, 1, 1,\n",
       "       0, 0, 0, 0, 0, 0, 0, 0, 0, 1, 1, 0, 0, 0, 0, 1, 1, 0, 0, 0, 0, 0,\n",
       "       1, 1, 0, 1, 0, 0, 0, 1, 0, 0, 1, 0, 1, 1, 0, 1, 1, 0, 1, 0, 0, 0,\n",
       "       0, 0, 1, 1, 1, 1, 0, 0, 0, 1, 0, 0, 1, 0, 0, 0, 1, 0, 0, 0, 0, 0,\n",
       "       0, 1, 0, 1, 1, 0, 0, 1, 0, 1, 1, 0, 1, 0, 1, 1, 0, 1, 0, 1, 1, 0,\n",
       "       0, 1, 1, 0, 0, 0, 1, 1, 0, 0, 1, 0, 1, 0, 0, 1, 0, 0, 1, 0, 0, 0,\n",
       "       1, 0, 0, 1, 0, 0, 0, 0, 1, 1, 1, 0, 1, 0, 0, 0, 0, 0, 0, 1, 0, 0,\n",
       "       1, 0, 0, 1, 1, 1, 1, 1, 1, 0, 0, 0, 0, 0, 1, 0, 0, 0, 1, 1, 0, 1,\n",
       "       0, 0, 0, 1, 0, 1, 0, 0, 1, 0, 0, 1, 0, 0, 1, 0, 0, 0, 1, 0, 1, 1,\n",
       "       1, 0, 1, 0, 1, 0, 0, 1, 1, 1, 0, 1, 0, 0, 1, 1, 0, 1, 1, 0, 0, 0,\n",
       "       0, 0, 1, 0, 0, 0, 1, 0, 0, 1, 0, 0, 0, 0, 1, 0, 0, 1, 0, 0, 0, 1,\n",
       "       1, 1])"
      ]
     },
     "execution_count": 35,
     "metadata": {},
     "output_type": "execute_result"
    }
   ],
   "source": [
    "logistic.predict(X_test)"
   ]
  },
  {
   "cell_type": "code",
   "execution_count": 38,
   "metadata": {},
   "outputs": [
    {
     "name": "stdout",
     "output_type": "stream",
     "text": [
      "Accuracy = 0.9135338345864662\n"
     ]
    }
   ],
   "source": [
    "## prediction our accuaracy\n",
    "print('Accuracy = ' + str(logistic.score(X_test,y_test)))"
   ]
  },
  {
   "cell_type": "code",
   "execution_count": 58,
   "metadata": {},
   "outputs": [
    {
     "name": "stdout",
     "output_type": "stream",
     "text": [
      "parameters are:\n",
      "\n",
      "Bias or Theta 0 = [0.02230556]\n",
      "\n",
      "Weights of each feature is:\n",
      "{'air_pressure_9am': -0.006054372848247713, 'air_temp_9am': -0.0026535088848650937, 'avg_wind_direction_9am': 0.0009832302862909006, 'avg_wind_speed_9am': 1.0435128625861225, 'max_wind_direction_9am': 0.00381094955776493, 'max_wind_speed_9am': -0.8951783174464408, 'rain_accumulation_9am': -0.06381247132215319, 'rain_duration_9am': -0.00014063171257495656, 'relative_humidity_9am': 0.176122168046152}\n"
     ]
    }
   ],
   "source": [
    "## parameters of our logistic Regression model\n",
    "\n",
    "print('parameters are:')\n",
    "print('')\n",
    "print('Bias or Theta 0 = '+ str(logistic.intercept_))\n",
    "print('')\n",
    "print('Weights of each feature is:')\n",
    "print(dict(zip(features,logistic.coef_[0])))"
   ]
  },
  {
   "cell_type": "code",
   "execution_count": 79,
   "metadata": {},
   "outputs": [],
   "source": [
    "Bias =                   0.02230556   \n",
    "air_pressure_9am =      -0.006054372848247713   \n",
    "air_temp_9am =          -0.0026535088848650937   \n",
    "avg_wind_direction_9am = 0.0009832302862909006   \n",
    "avg_wind_speed_9am =     1.0435128625861225   \n",
    "max_wind_direction_9am = 0.00381094955776493   \n",
    "max_wind_speed_9am =    -0.8951783174464408   \n",
    "rain_accumulation_9am = -0.06381247132215319   \n",
    "rain_duration_9am =     -0.00014063171257495656   \n",
    "relative_humidity_9am =  0.176122168046152  "
   ]
  },
  {
   "cell_type": "markdown",
   "metadata": {},
   "source": [
    "#### Import features\n",
    "\n",
    "avg_wind_speed_9am :   1.0435128625861225   \n",
    "relative_humidity_9am: 0.176122168046152    \n",
    "max_wind_speed_9am :  -0.8951783174464408  "
   ]
  },
  {
   "cell_type": "markdown",
   "metadata": {},
   "source": [
    "### Decision Tree Regression"
   ]
  },
  {
   "cell_type": "code",
   "execution_count": 59,
   "metadata": {},
   "outputs": [],
   "source": [
    "from sklearn.tree import DecisionTreeClassifier"
   ]
  },
  {
   "cell_type": "code",
   "execution_count": 60,
   "metadata": {},
   "outputs": [
    {
     "data": {
      "text/plain": [
       "array([0, 1, 1, 1, 0, 1, 0, 1, 1, 1, 0, 0, 1, 0, 1, 0, 0, 0, 1, 1, 1, 1,\n",
       "       1, 1, 0, 0, 1, 0, 0, 0, 1, 1, 1, 1, 0, 1, 0, 0, 0, 0, 1, 0, 1, 1,\n",
       "       0, 1, 0, 1, 0, 0, 0, 0, 0, 1, 1, 0, 0, 0, 0, 1, 1, 0, 0, 0, 0, 0,\n",
       "       1, 1, 0, 1, 0, 0, 0, 1, 0, 0, 1, 0, 1, 1, 0, 1, 1, 0, 1, 0, 0, 0,\n",
       "       0, 0, 1, 0, 1, 1, 0, 0, 0, 1, 0, 0, 1, 0, 0, 0, 1, 1, 0, 0, 0, 0,\n",
       "       0, 1, 1, 0, 1, 0, 0, 0, 0, 1, 1, 0, 1, 0, 1, 1, 0, 1, 1, 0, 1, 0,\n",
       "       0, 1, 1, 0, 0, 0, 1, 1, 0, 1, 1, 0, 1, 0, 1, 1, 0, 1, 1, 0, 0, 0,\n",
       "       1, 0, 0, 1, 0, 0, 0, 0, 1, 1, 1, 0, 1, 0, 0, 0, 0, 0, 0, 1, 0, 0,\n",
       "       1, 0, 0, 1, 1, 1, 1, 1, 1, 1, 0, 0, 0, 0, 1, 0, 0, 0, 1, 1, 0, 1,\n",
       "       0, 0, 0, 1, 1, 1, 0, 0, 1, 1, 0, 1, 0, 0, 1, 0, 0, 0, 1, 0, 1, 0,\n",
       "       1, 0, 1, 0, 1, 0, 0, 1, 1, 1, 0, 1, 0, 0, 0, 1, 1, 1, 1, 0, 0, 0,\n",
       "       0, 0, 1, 0, 1, 0, 0, 0, 0, 1, 0, 0, 0, 0, 1, 0, 0, 1, 0, 0, 0, 1,\n",
       "       1, 1])"
      ]
     },
     "execution_count": 60,
     "metadata": {},
     "output_type": "execute_result"
    }
   ],
   "source": [
    "tree=DecisionTreeClassifier(random_state=0)\n",
    "tree.fit(X_train,y_train)\n",
    "tree.predict(X_test)"
   ]
  },
  {
   "cell_type": "code",
   "execution_count": 61,
   "metadata": {},
   "outputs": [
    {
     "data": {
      "text/plain": [
       "0.9097744360902256"
      ]
     },
     "execution_count": 61,
     "metadata": {},
     "output_type": "execute_result"
    }
   ],
   "source": [
    "tree.score(X_test,y_test)"
   ]
  },
  {
   "cell_type": "code",
   "execution_count": 62,
   "metadata": {},
   "outputs": [
    {
     "data": {
      "text/plain": [
       "array([0.07160488, 0.07586254, 0.04299009, 0.03006244, 0.03092388,\n",
       "       0.0341665 , 0.01029917, 0.00163008, 0.70246043])"
      ]
     },
     "execution_count": 62,
     "metadata": {},
     "output_type": "execute_result"
    }
   ],
   "source": [
    "tree.feature_importances_"
   ]
  },
  {
   "cell_type": "code",
   "execution_count": null,
   "metadata": {},
   "outputs": [],
   "source": []
  },
  {
   "cell_type": "code",
   "execution_count": 66,
   "metadata": {},
   "outputs": [
    {
     "name": "stdout",
     "output_type": "stream",
     "text": [
      "{'air_pressure_9am': 0.07160488313935606, 'air_temp_9am': 0.07586254229294367, 'avg_wind_direction_9am': 0.042990086044703384, 'avg_wind_speed_9am': 0.030062438386445182, 'max_wind_direction_9am': 0.03092387663944257, 'max_wind_speed_9am': 0.03416649885546163, 'rain_accumulation_9am': 0.01029916891999678, 'rain_duration_9am': 0.0016300793462719508, 'relative_humidity_9am': 0.7024604263753788}\n"
     ]
    }
   ],
   "source": [
    "print(dict(zip(features,tree.feature_importances_)))"
   ]
  },
  {
   "cell_type": "code",
   "execution_count": null,
   "metadata": {},
   "outputs": [],
   "source": []
  },
  {
   "cell_type": "code",
   "execution_count": 77,
   "metadata": {},
   "outputs": [],
   "source": [
    "air_pressure_9am = 0.07160488313935606    \n",
    "air_temp_9am =  0.07586254229294367    \n",
    "avg_wind_direction_9am =  0.042990086044703384    \n",
    "avg_wind_speed_9am =  0.030062438386445182    \n",
    "max_wind_direction_9am =  0.03092387663944257    \n",
    "max_wind_speed_9am =  0.03416649885546163    \n",
    "rain_accumulation_9am =  0.01029916891999678    \n",
    "rain_duration_9am =  0.0016300793462719508    \n",
    "relative_humidity_9am =  0.7024604263753788"
   ]
  },
  {
   "cell_type": "code",
   "execution_count": null,
   "metadata": {},
   "outputs": [],
   "source": [
    "relative_humidity_9am =  0.7024604263753788"
   ]
  },
  {
   "cell_type": "markdown",
   "metadata": {},
   "source": [
    "### Support Vector Machine"
   ]
  },
  {
   "cell_type": "code",
   "execution_count": 86,
   "metadata": {},
   "outputs": [],
   "source": [
    "from sklearn.svm import LinearSVC"
   ]
  },
  {
   "cell_type": "code",
   "execution_count": 88,
   "metadata": {},
   "outputs": [],
   "source": [
    "svc=LinearSVC()"
   ]
  },
  {
   "cell_type": "code",
   "execution_count": 89,
   "metadata": {},
   "outputs": [
    {
     "data": {
      "text/plain": [
       "array([0, 1, 0, 0, 0, 0, 0, 0, 1, 1, 0, 0, 1, 0, 1, 0, 0, 0, 1, 0, 0, 0,\n",
       "       1, 0, 0, 0, 1, 0, 0, 0, 0, 1, 0, 1, 0, 1, 0, 0, 0, 0, 1, 0, 1, 0,\n",
       "       0, 0, 0, 0, 0, 0, 0, 0, 0, 1, 0, 0, 0, 0, 0, 1, 1, 0, 0, 0, 0, 0,\n",
       "       1, 1, 0, 0, 0, 0, 0, 1, 0, 0, 1, 0, 1, 1, 0, 1, 0, 0, 1, 0, 0, 0,\n",
       "       0, 0, 1, 0, 0, 1, 0, 0, 0, 1, 0, 0, 0, 0, 0, 0, 0, 0, 0, 0, 0, 0,\n",
       "       0, 1, 0, 0, 1, 0, 0, 0, 0, 0, 0, 0, 1, 0, 1, 1, 0, 1, 0, 0, 0, 0,\n",
       "       0, 1, 0, 0, 0, 0, 1, 0, 0, 0, 1, 0, 1, 0, 0, 1, 0, 0, 1, 0, 0, 0,\n",
       "       1, 0, 0, 1, 0, 0, 0, 0, 0, 0, 1, 0, 1, 0, 0, 0, 0, 0, 0, 1, 0, 0,\n",
       "       1, 0, 0, 1, 1, 0, 1, 1, 1, 0, 0, 0, 0, 0, 1, 0, 0, 0, 1, 0, 0, 1,\n",
       "       0, 0, 0, 1, 0, 0, 0, 0, 1, 0, 0, 0, 0, 0, 1, 0, 0, 0, 0, 0, 1, 0,\n",
       "       1, 0, 1, 0, 1, 0, 0, 0, 0, 1, 0, 0, 0, 0, 0, 1, 0, 1, 1, 0, 0, 0,\n",
       "       0, 0, 1, 0, 0, 0, 1, 0, 0, 0, 0, 0, 0, 0, 1, 0, 0, 0, 0, 0, 0, 0,\n",
       "       1, 0])"
      ]
     },
     "execution_count": 89,
     "metadata": {},
     "output_type": "execute_result"
    }
   ],
   "source": [
    "svc.fit(X_train,y_train)\n",
    "svc.predict(X_test)"
   ]
  },
  {
   "cell_type": "code",
   "execution_count": 90,
   "metadata": {},
   "outputs": [
    {
     "data": {
      "text/plain": [
       "0.8195488721804511"
      ]
     },
     "execution_count": 90,
     "metadata": {},
     "output_type": "execute_result"
    }
   ],
   "source": [
    "svc.score(X_test,y_test)"
   ]
  },
  {
   "cell_type": "code",
   "execution_count": 91,
   "metadata": {},
   "outputs": [
    {
     "name": "stdout",
     "output_type": "stream",
     "text": [
      "parameters are:\n",
      "\n",
      "Bias or Theta 0 = [0.00023784]\n",
      "\n",
      "Weights of each feature is:\n",
      "{'air_pressure_9am': -0.0025831492304386494, 'air_temp_9am': 0.0010290592145546066, 'avg_wind_direction_9am': -0.0015109332338347102, 'avg_wind_speed_9am': 0.014281072792308757, 'max_wind_direction_9am': 0.002141052367360921, 'max_wind_speed_9am': -0.012562181073418267, 'rain_accumulation_9am': 0.00031035807008492446, 'rain_duration_9am': -0.0005261065408390871, 'relative_humidity_9am': 0.054984609807397763}\n"
     ]
    }
   ],
   "source": [
    "## parameters of our Linear SVC model:\n",
    "\n",
    "print('parameters are:')\n",
    "print('')\n",
    "print('Bias or Theta 0 = '+ str(svc.intercept_))\n",
    "print('')\n",
    "print('Weights of each feature is:')\n",
    "print(dict(zip(features,svc.coef_[0])))"
   ]
  },
  {
   "cell_type": "code",
   "execution_count": 92,
   "metadata": {},
   "outputs": [],
   "source": [
    "Bias=                    0.00023784   \n",
    "air_pressure_9am =       -0.0025831492304386494   \n",
    "air_temp_9am =           0.0010290592145546066   \n",
    "avg_wind_direction_9am = -0.0015109332338347102   \n",
    "avg_wind_speed_9am =     0.014281072792308757   \n",
    "max_wind_direction_9am = 0.002141052367360921   \n",
    "max_wind_speed_9am =    -0.012562181073418267   \n",
    "rain_accumulation_9am =  0.00031035807008492446   \n",
    "rain_duration_9am =     -0.0005261065408390871   \n",
    "relative_humidity_9am =  0.054984609807397763"
   ]
  },
  {
   "cell_type": "markdown",
   "metadata": {},
   "source": [
    "### KNeighborsClassifier"
   ]
  },
  {
   "cell_type": "code",
   "execution_count": 94,
   "metadata": {},
   "outputs": [],
   "source": [
    "from sklearn.neighbors import KNeighborsClassifier"
   ]
  },
  {
   "cell_type": "code",
   "execution_count": 95,
   "metadata": {},
   "outputs": [
    {
     "name": "stdout",
     "output_type": "stream",
     "text": [
      "k          accuracy\n",
      "1          0.8721804511278195\n",
      "2          0.8609022556390977\n",
      "3          0.8796992481203008\n",
      "4          0.8721804511278195\n",
      "5          0.8909774436090225\n",
      "6          0.8721804511278195\n",
      "7          0.8721804511278195\n",
      "8          0.868421052631579\n",
      "9          0.8796992481203008\n",
      "10          0.8721804511278195\n",
      "11          0.8759398496240601\n",
      "12          0.8609022556390977\n",
      "13          0.8646616541353384\n",
      "14          0.8533834586466166\n",
      "15          0.8646616541353384\n",
      "16          0.8571428571428571\n",
      "17          0.8571428571428571\n",
      "18          0.8609022556390977\n",
      "19          0.8646616541353384\n"
     ]
    }
   ],
   "source": [
    "K = range(1,20)\n",
    "K_score = []\n",
    "print('k          accuracy')\n",
    "for k in K:\n",
    "    knn=KNeighborsClassifier(n_neighbors=k)\n",
    "    knn.fit(X_train,y_train)\n",
    "    score = knn.score(X_test,y_test)\n",
    "    K_score.append(score)\n",
    "    print(str(k) + '          ' + str(score))"
   ]
  },
  {
   "cell_type": "markdown",
   "metadata": {},
   "source": [
    "we get maximum accuracy at k=5  \n",
    "5 ----->>   0.8909774436090225"
   ]
  },
  {
   "cell_type": "markdown",
   "metadata": {},
   "source": [
    "### Random Forests"
   ]
  },
  {
   "cell_type": "code",
   "execution_count": 97,
   "metadata": {},
   "outputs": [
    {
     "name": "stderr",
     "output_type": "stream",
     "text": [
      "C:\\Users\\QCs\\AppData\\Local\\Programs\\Python\\Python37-32\\Lib\\site-packages\\sklearn\\ensemble\\weight_boosting.py:29: DeprecationWarning: numpy.core.umath_tests is an internal NumPy module and should not be imported. It will be removed in a future NumPy release.\n",
      "  from numpy.core.umath_tests import inner1d\n"
     ]
    }
   ],
   "source": [
    "from sklearn.ensemble import RandomForestClassifier"
   ]
  },
  {
   "cell_type": "code",
   "execution_count": 104,
   "metadata": {},
   "outputs": [
    {
     "name": "stdout",
     "output_type": "stream",
     "text": [
      "estimators    depth          accuracy\n",
      "10             2          0.8984962406015038\n",
      "10             3          0.9285714285714286\n",
      "10             4          0.924812030075188\n",
      "20             2          0.9172932330827067\n",
      "20             3          0.9210526315789473\n",
      "20             4          0.924812030075188\n",
      "30             2          0.9060150375939849\n",
      "30             3          0.9172932330827067\n",
      "30             4          0.924812030075188\n",
      "40             2          0.9097744360902256\n",
      "40             3          0.9172932330827067\n",
      "40             4          0.9210526315789473\n",
      "50             2          0.9097744360902256\n",
      "50             3          0.9210526315789473\n",
      "50             4          0.9210526315789473\n",
      "60             2          0.9172932330827067\n",
      "60             3          0.9060150375939849\n",
      "60             4          0.9210526315789473\n",
      "70             2          0.9172932330827067\n",
      "70             3          0.9135338345864662\n",
      "70             4          0.924812030075188\n",
      "80             2          0.9135338345864662\n",
      "80             3          0.9060150375939849\n",
      "80             4          0.924812030075188\n",
      "90             2          0.9135338345864662\n",
      "90             3          0.9060150375939849\n",
      "90             4          0.924812030075188\n",
      "100             2          0.9135338345864662\n",
      "100             3          0.9060150375939849\n",
      "100             4          0.924812030075188\n",
      "120             2          0.9135338345864662\n",
      "120             3          0.9060150375939849\n",
      "120             4          0.924812030075188\n",
      "140             2          0.9135338345864662\n",
      "140             3          0.9097744360902256\n",
      "140             4          0.924812030075188\n",
      "160             2          0.9135338345864662\n",
      "160             3          0.9097744360902256\n",
      "160             4          0.924812030075188\n"
     ]
    }
   ],
   "source": [
    "estimators = [10,20,30,40,50,60,70,80,90,100,120,140,160]\n",
    "depth = [2,3,4]\n",
    "print('estimators    depth          accuracy')\n",
    "for i in estimators:\n",
    "    for j in depth:\n",
    "        forest = RandomForestClassifier(n_estimators=i, max_depth=j, random_state=0)\n",
    "        forest.fit(X_train, y_train)\n",
    "        score=forest.score(X_test,y_test)\n",
    "        print(str(i)+ '             ' + str(j) + '          ' + str(score))"
   ]
  },
  {
   "cell_type": "code",
   "execution_count": 109,
   "metadata": {},
   "outputs": [
    {
     "data": {
      "text/plain": [
       "{'air_pressure_9am': 0.12700420857293165,\n",
       " 'air_temp_9am': 0.10203290933625835,\n",
       " 'avg_wind_direction_9am': 0.041933537954216726,\n",
       " 'avg_wind_speed_9am': 0.01984327671164985,\n",
       " 'max_wind_direction_9am': 0.08662115094670865,\n",
       " 'max_wind_speed_9am': 0.019262536112704974,\n",
       " 'rain_accumulation_9am': 0.00562408320835605,\n",
       " 'rain_duration_9am': 0.009178587444436058,\n",
       " 'relative_humidity_9am': 0.5884997097127374}"
      ]
     },
     "execution_count": 109,
     "metadata": {},
     "output_type": "execute_result"
    }
   ],
   "source": [
    "dict(zip(features,forest.feature_importances_))"
   ]
  },
  {
   "cell_type": "markdown",
   "metadata": {},
   "source": [
    "#### important features"
   ]
  },
  {
   "cell_type": "code",
   "execution_count": 111,
   "metadata": {},
   "outputs": [],
   "source": [
    "air_pressure_9am =      0.12700420857293165\n",
    "air_temp_9am =          0.10203290933625835\n",
    "relative_humidity_9am = 0.5884997097127374"
   ]
  },
  {
   "cell_type": "markdown",
   "metadata": {},
   "source": [
    "## Summary\n",
    "### Accuracy of different models"
   ]
  },
  {
   "cell_type": "code",
   "execution_count": 113,
   "metadata": {},
   "outputs": [
    {
     "name": "stdout",
     "output_type": "stream",
     "text": [
      "      Model                          Accuracy\n",
      "Logistic Regression =          0.9135338345864662\n",
      "Decision Tree Regression =     0.9097744360902256\n",
      "Support Vector Machine =       0.8195488721804511\n",
      "KNeighborsClassifier =         0.8909774436090225  (with k=5)\n",
      "Random Forests =               0.9285714285714286 (estimators=10, depth=3)\n"
     ]
    }
   ],
   "source": [
    "print('      Model                          Accuracy')\n",
    "print('Logistic Regression =          0.9135338345864662')\n",
    "print('Decision Tree Regression =     0.9097744360902256')\n",
    "print('Support Vector Machine =       0.8195488721804511')\n",
    "print('KNeighborsClassifier =         0.8909774436090225  (with k=5)')\n",
    "print('Random Forests =               0.9285714285714286 (estimators=10, depth=3)')"
   ]
  },
  {
   "cell_type": "markdown",
   "metadata": {},
   "source": [
    "#### Conclusion:   \n",
    "    Random Forest has so far given the best accuracy    "
   ]
  },
  {
   "cell_type": "code",
   "execution_count": null,
   "metadata": {},
   "outputs": [],
   "source": []
  }
 ],
 "metadata": {
  "kernelspec": {
   "display_name": "Python 3",
   "language": "python",
   "name": "python3"
  },
  "language_info": {
   "codemirror_mode": {
    "name": "ipython",
    "version": 3
   },
   "file_extension": ".py",
   "mimetype": "text/x-python",
   "name": "python",
   "nbconvert_exporter": "python",
   "pygments_lexer": "ipython3",
   "version": "3.7.0"
  }
 },
 "nbformat": 4,
 "nbformat_minor": 2
}
